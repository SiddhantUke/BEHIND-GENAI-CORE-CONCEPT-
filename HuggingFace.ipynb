{
  "nbformat": 4,
  "nbformat_minor": 0,
  "metadata": {
    "colab": {
      "provenance": [],
      "authorship_tag": "ABX9TyMsDhiq8tdW1YJ3SMdyqVKK",
      "include_colab_link": true
    },
    "kernelspec": {
      "name": "python3",
      "display_name": "Python 3"
    },
    "language_info": {
      "name": "python"
    }
  },
  "cells": [
    {
      "cell_type": "markdown",
      "metadata": {
        "id": "view-in-github",
        "colab_type": "text"
      },
      "source": [
        "<a href=\"https://colab.research.google.com/github/SiddhantUke/BEHIND-GENAI-CORE-CONCEPT-/blob/main/HuggingFace.ipynb\" target=\"_parent\"><img src=\"https://colab.research.google.com/assets/colab-badge.svg\" alt=\"Open In Colab\"/></a>"
      ]
    },
    {
      "cell_type": "markdown",
      "source": [
        "###HUGGINGFACE\n",
        "\n",
        "OPEN THE WEBSITE OF https://huggingface.co/\n",
        "\n",
        ".\n",
        "\n",
        "\n",
        ".\n",
        "\n",
        "\n",
        ".\n",
        "\n",
        "\n",
        "THEN GO TO ACCESS TOKEN AND CREATE A NEW TOKEN WITH THIS WE SEE 2 OPTION THAT IS ###Token name AND ###Repositories permissions PUT IN LANGCHAIN IN 1ST AND 2ND IN READ"
      ],
      "metadata": {
        "id": "0NjmXT9vpkfL"
      }
    },
    {
      "cell_type": "markdown",
      "source": [
        "\n",
        "\n",
        "---\n",
        "\n"
      ],
      "metadata": {
        "id": "1kirCyx2qx6g"
      }
    },
    {
      "cell_type": "markdown",
      "source": [
        "NOW PUT THAT ### HF_KEY TOKEN IN .env file and  then\n",
        "..\n",
        "\n",
        ".\n",
        "\n",
        ".\n",
        "\n",
        ".\n",
        "\n",
        ".\n",
        "\n",
        ".\n",
        "INSTALL THE LIBRARY THAT IS **SENTENCE TRANSFORMER**\n",
        "\n",
        "(CHECK DOCUMENTATION PAGE BEFORE THIS)\n",
        "\n",
        "COLLABORATIVE LIBRARY FOR EMBEDDING VARIOUS TECHNIQUE\n",
        "\n",
        "THAT IS  '''\n",
        "\n",
        "\n",
        "**langchain_huggingface**  ##library !\n",
        "\n"
      ],
      "metadata": {
        "id": "Lz0fP3yCqy0m"
      }
    },
    {
      "cell_type": "markdown",
      "source": [
        "\n",
        "\n",
        "---\n",
        "\n"
      ],
      "metadata": {
        "id": "uGdiFPzFrvVg"
      }
    },
    {
      "cell_type": "markdown",
      "source": [
        "\n",
        "\n",
        "---\n",
        "\n"
      ],
      "metadata": {
        "id": "j807yS_7rwvg"
      }
    },
    {
      "cell_type": "code",
      "source": [
        "import os\n",
        "from dotenv import load_dotenv\n",
        "load_dotenv()  #load all the environment variables"
      ],
      "metadata": {
        "id": "UOmM965pr75k"
      },
      "execution_count": null,
      "outputs": []
    },
    {
      "cell_type": "markdown",
      "source": [
        "doesnt matter if we directly put key here as well with a  properly call .\n"
      ],
      "metadata": {
        "id": "1WgdLSp4r_AW"
      }
    },
    {
      "cell_type": "code",
      "execution_count": null,
      "metadata": {
        "id": "ls91Qk3UpPf_"
      },
      "outputs": [],
      "source": [
        "os.environ['HF_TOKEN']=os.getenv(\"HF_TOKEN\")\n"
      ]
    },
    {
      "cell_type": "markdown",
      "source": [
        "#### Sentence Transformers on Hugging Face\n",
        "\n",
        "\n",
        "Hugging Face sentence-transformers is a Python framework for state-of-the-art sentence, text and image embeddings. One of the embedding models is used in the HuggingFaceEmbeddings class. We have also added an alias for SentenceTransformerEmbeddings for users who are more familiar with directly using that package."
      ],
      "metadata": {
        "id": "NQ6cAK05sPBN"
      }
    },
    {
      "cell_type": "code",
      "source": [
        "from langchain_huggingface import HuggingFaceEmbeddings\n",
        "embeddings=HuggingFaceEmbeddings(model_name=\"all-MiniLM-L6-v2\")"
      ],
      "metadata": {
        "id": "qlSLcma1r836"
      },
      "execution_count": null,
      "outputs": []
    },
    {
      "cell_type": "code",
      "source": [
        "text=\"this is atest documents\"\n",
        "query_result=embeddings.embed_query(text)\n",
        "query_result"
      ],
      "metadata": {
        "id": "ntQMZOz1rz1f"
      },
      "execution_count": null,
      "outputs": []
    },
    {
      "cell_type": "code",
      "source": [
        "len(query_result)"
      ],
      "metadata": {
        "id": "nh6b7yuvrzyZ"
      },
      "execution_count": null,
      "outputs": []
    },
    {
      "cell_type": "code",
      "source": [
        "doc_result = embeddings.embed_documents([text, \"This is not a test document.\"])\n",
        "doc_result[0]"
      ],
      "metadata": {
        "id": "GBlWb-07rzv4"
      },
      "execution_count": null,
      "outputs": []
    },
    {
      "cell_type": "code",
      "source": [],
      "metadata": {
        "id": "jvsnSDdcrztT"
      },
      "execution_count": null,
      "outputs": []
    }
  ]
}