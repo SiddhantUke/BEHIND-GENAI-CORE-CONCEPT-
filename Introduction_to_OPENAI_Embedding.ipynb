{
  "nbformat": 4,
  "nbformat_minor": 0,
  "metadata": {
    "colab": {
      "provenance": [],
      "authorship_tag": "ABX9TyMka+Y1xI12R0SBR5N0c2k8",
      "include_colab_link": true
    },
    "kernelspec": {
      "name": "python3",
      "display_name": "Python 3"
    },
    "language_info": {
      "name": "python"
    }
  },
  "cells": [
    {
      "cell_type": "markdown",
      "metadata": {
        "id": "view-in-github",
        "colab_type": "text"
      },
      "source": [
        "<a href=\"https://colab.research.google.com/github/SiddhantUke/BEHIND-GENAI-CORE-CONCEPT-/blob/main/Introduction_to_OPENAI_Embedding.ipynb\" target=\"_parent\"><img src=\"https://colab.research.google.com/assets/colab-badge.svg\" alt=\"Open In Colab\"/></a>"
      ]
    },
    {
      "cell_type": "markdown",
      "source": [
        "3RD STEP IN MODULE CHECK PAGE 1 FOR BETTER UNDERSTANDING !  FROM PDF"
      ],
      "metadata": {
        "id": "6W5zHi0ywV21"
      }
    },
    {
      "cell_type": "markdown",
      "source": [
        "# **EMBEDDING **\n",
        "\n",
        "1) OPENAI ------> PAID\n",
        "\n",
        "2) OLLAMA ------> OPEN SOURCE\n",
        "\n",
        "3) HUGGINGFACE -------> OPEN SOURCE\n",
        "\n",
        "\n",
        " NOTES - THERE ARE LOT OF EMBEDDING TECHNIQUE BUT WE ACTUCALLY USE THIS 3 EMBEDDING TECH. FOR BETTER ACCURACY AND GOOD PERFORMANCE."
      ],
      "metadata": {
        "id": "AOGRiK4PfHWr"
      }
    },
    {
      "cell_type": "markdown",
      "source": [
        ".\n",
        "\n",
        ".\n",
        "\n",
        ".\n",
        "\n",
        ".\n",
        "\n",
        ".\n",
        "\n",
        ".\n",
        "\n",
        ".\n"
      ],
      "metadata": {
        "id": "vUTo1jBih1ls"
      }
    },
    {
      "cell_type": "markdown",
      "source": [
        "\n",
        "\n",
        "---\n",
        "\n",
        "\n",
        "\n",
        "NEXT STEP\n",
        "\n",
        "---\n",
        "\n",
        "\n"
      ],
      "metadata": {
        "id": "yBSCp1KWf3Kq"
      }
    },
    {
      "cell_type": "markdown",
      "source": [
        "OPEN BROWSWER -------> OPEN AI -------> PAID BUT ACCURACY IS QUITE AMAZING !\n"
      ],
      "metadata": {
        "id": "oXZrEJJVf5r9"
      }
    },
    {
      "cell_type": "markdown",
      "source": [
        ".\n",
        "\n",
        ".\n",
        "\n",
        ".\n",
        "\n",
        ".\n",
        "\n",
        ".\n",
        "\n",
        ".\n",
        "\n",
        ".\n",
        "\n",
        ".\n",
        "\n",
        ".\n"
      ],
      "metadata": {
        "id": "Xq0D6ibchhpG"
      }
    },
    {
      "cell_type": "markdown",
      "source": [
        "\n",
        "\n",
        "---\n",
        "\n",
        "\n",
        "\n",
        "CREATE ACCOUNT ------> OPEN THE DASHBOARD ------> OPEN API KEYS ---------> CREATE SHORTCUT KEYS\n",
        "\n",
        "\n",
        "\n",
        "---\n",
        "\n"
      ],
      "metadata": {
        "id": "dc9LzvQFgWK-"
      }
    },
    {
      "cell_type": "markdown",
      "source": [
        ".\n",
        "\n",
        ".\n",
        "\n",
        ".\n",
        "\n",
        ".\n"
      ],
      "metadata": {
        "id": "UrPc6wMHinUt"
      }
    },
    {
      "cell_type": "markdown",
      "source": [
        "COPY THAT SECRET KEY AND CREATE AN ENVIORONMENT WITH THAT FOR IT !\n",
        ".\n",
        "\n",
        ".\n",
        "\n",
        ".\n",
        "\n",
        ".\n",
        "\n",
        ".\n",
        "\n",
        ".\n",
        "\n",
        ".\n",
        "\n",
        ".\n",
        "\n",
        ".\n",
        "\n",
        "IF WE WANT TO CALL THAT API KEY ENVIRONMENT THEN WE HAVE TO CALL THAT API_KEY ENVIRONMENT !\n"
      ],
      "metadata": {
        "id": "L6jMzba4jdJR"
      }
    },
    {
      "cell_type": "code",
      "execution_count": null,
      "metadata": {
        "id": "NZGWxxvLe4S0"
      },
      "outputs": [],
      "source": [
        "\n"
      ]
    },
    {
      "cell_type": "markdown",
      "source": [
        "**python - dotenv**\n",
        "\n",
        "**langchain-openai**\n",
        "\n",
        "requirement.txt library install  manually or auto. but you have to install it !"
      ],
      "metadata": {
        "id": "0Ql3hQTLirh7"
      }
    },
    {
      "cell_type": "markdown",
      "source": [
        "\n",
        "\n",
        "---\n",
        "\n"
      ],
      "metadata": {
        "id": "kT5LF-vbjV3N"
      }
    },
    {
      "cell_type": "code",
      "source": [
        "import os\n",
        "\n",
        "from dotenv import load_dotenv\n",
        "\n",
        "load_dotenv()  #load all the environment variables"
      ],
      "metadata": {
        "id": "gxJVw3QhimNQ"
      },
      "execution_count": null,
      "outputs": []
    },
    {
      "cell_type": "code",
      "source": [
        "os.environ[\"OPENAI_API_KEY\"]=os.getenv(\"OPENAI_API_KEY\")"
      ],
      "metadata": {
        "id": "CFXKC4_lkEgQ"
      },
      "execution_count": null,
      "outputs": []
    },
    {
      "cell_type": "markdown",
      "source": [
        "OPENAI_API_KEY = WE HAVE TO PUT THE SECRET KEY HERE ! IN ANOTHER SEPARATE CELL !"
      ],
      "metadata": {
        "id": "qg1DhGZ2kKjS"
      }
    },
    {
      "cell_type": "markdown",
      "source": [
        "\n",
        "\n",
        "---\n",
        "\n"
      ],
      "metadata": {
        "id": "Yc7mKveGkXOI"
      }
    },
    {
      "cell_type": "markdown",
      "source": [
        "EMBEDDING TECHNIQUE  - - - CONVERTING TEXT INTO VECTOR\n",
        "\n"
      ],
      "metadata": {
        "id": "Wvj_nBwflIDU"
      }
    },
    {
      "cell_type": "markdown",
      "source": [
        "\n",
        "\n",
        "---\n",
        "\n"
      ],
      "metadata": {
        "id": "7j-YZXYXlYJ6"
      }
    },
    {
      "cell_type": "code",
      "source": [],
      "metadata": {
        "id": "ez_fvjCplXYl"
      },
      "execution_count": null,
      "outputs": []
    },
    {
      "cell_type": "markdown",
      "source": [
        ".\n",
        "\n",
        ".\n",
        "\n",
        ".\n",
        "\n",
        ".\n",
        "\n",
        ".\n",
        "\n",
        ".\n",
        "\n",
        "."
      ],
      "metadata": {
        "id": "k8Es-u5Wl7Ph"
      }
    },
    {
      "cell_type": "markdown",
      "source": [
        "FOR USING OPENAI EMBEDDING GO TO LANGCHAIN AND CHECK THE  DOCUMENTATION !\n",
        "\n"
      ],
      "metadata": {
        "id": "GRe9J_0dmBN6"
      }
    },
    {
      "cell_type": "code",
      "source": [
        "from langchain_openai import OpenAIEmbeddings\n",
        "\n",
        "embeddings=OpenAIEmbeddings(model=\"text-embedding-3-large\")\n",
        "\n",
        "embeddings"
      ],
      "metadata": {
        "id": "reWQnqVFmhTv"
      },
      "execution_count": null,
      "outputs": []
    },
    {
      "cell_type": "markdown",
      "source": [
        ".\n",
        "\n",
        ".\n",
        "\n",
        ".\n",
        "\n",
        ".\n",
        "\n",
        ".\n",
        "\n",
        "."
      ],
      "metadata": {
        "id": "4BpmC2CzohDz"
      }
    },
    {
      "cell_type": "markdown",
      "source": [
        "\n",
        "\n",
        "---\n",
        "\n",
        "\n",
        "\n",
        "\n",
        "WE HAVE DIFF_DIFF MODEL -\n",
        "\n",
        "\n",
        "\n",
        "https://platform.openai.com/docs/guides/embeddings\n",
        "\n",
        "DOCUMENTATION LINK _ FOR FUTURE PRESPECTIVE\n",
        "\n",
        "\n",
        "\n",
        "WE ARE CALLING THIS MODEL FOR EMBEDDING PURPOSE !\n",
        "\n",
        "\n",
        "\n",
        "\n",
        "---\n",
        "\n",
        "\n"
      ],
      "metadata": {
        "id": "Le--0BhmmnpY"
      }
    },
    {
      "cell_type": "markdown",
      "source": [
        ".\n",
        "\n",
        ".\n",
        "\n",
        ".\n",
        "\n",
        ".\n",
        "\n",
        ".\n",
        "\n",
        "."
      ],
      "metadata": {
        "id": "qgzduQEVoklI"
      }
    },
    {
      "cell_type": "code",
      "source": [],
      "metadata": {
        "id": "MAtuSyOkmm1N"
      },
      "execution_count": null,
      "outputs": []
    },
    {
      "cell_type": "markdown",
      "source": [
        "LETS TEST THIS NOW  !\n",
        "\n"
      ],
      "metadata": {
        "id": "Vxj6GLhvooMg"
      }
    },
    {
      "cell_type": "code",
      "source": [
        "text=\"This is a tutorial on OPENAI embedding\"\n",
        "query_result=embeddings.embed_query(text)\n",
        "query_result"
      ],
      "metadata": {
        "id": "Xs0Moosaos3Z"
      },
      "execution_count": null,
      "outputs": []
    },
    {
      "cell_type": "code",
      "source": [
        "len(query_result)\n",
        "\n",
        "\n",
        " ## HERE WE GET OUTPUT 3042\n"
      ],
      "metadata": {
        "id": "9YJNVB46rbcR"
      },
      "execution_count": null,
      "outputs": []
    },
    {
      "cell_type": "markdown",
      "source": [
        "IF WE WANT TO CHANGE THE DIMENSION"
      ],
      "metadata": {
        "id": "5FmJWCKurqx7"
      }
    },
    {
      "cell_type": "code",
      "source": [
        "embeddings_1024=OpenAIEmbeddings(model=\"text-embedding-3-large\",dimensions=1024)"
      ],
      "metadata": {
        "id": "_FXkjSjVrfEd"
      },
      "execution_count": null,
      "outputs": []
    },
    {
      "cell_type": "code",
      "source": [
        "embeddings_1024"
      ],
      "metadata": {
        "id": "llpcHaOwr4yS"
      },
      "execution_count": null,
      "outputs": []
    },
    {
      "cell_type": "code",
      "source": [
        "text=\"This is a tutorial on OPENAI embedding\"\n",
        "query_result=embeddings_1024.embed_query(text)\n",
        "len(query_result)"
      ],
      "metadata": {
        "id": "8ThD_iO_r9PO"
      },
      "execution_count": null,
      "outputs": []
    },
    {
      "cell_type": "code",
      "source": [
        "query_result\n",
        "\n",
        "\n",
        "## HERE WE GET THE OUPUT OF ABOVE QUERY"
      ],
      "metadata": {
        "id": "pzDQdkBRsR99"
      },
      "execution_count": null,
      "outputs": []
    },
    {
      "cell_type": "code",
      "source": [],
      "metadata": {
        "id": "naApfwgbstO6"
      },
      "execution_count": null,
      "outputs": []
    },
    {
      "cell_type": "markdown",
      "source": [
        "\\\n",
        "\n",
        "---\n",
        "\n"
      ],
      "metadata": {
        "id": "Gh8_XNQ-r1P1"
      }
    },
    {
      "cell_type": "code",
      "source": [
        "## ## DATA INGESTION\n",
        "\n",
        "from langchain_community.document_loaders import TextLoader\n",
        "\n",
        "loader=TextLoader('speech.txt')\n",
        "docs=loader.load()\n",
        "docs\n",
        "\n",
        "## WE ARE TAKING HERE OUR SPEECH.TXT AND THEN WE HAVE DO THE PRACTICAL !"
      ],
      "metadata": {
        "id": "NuFlBFf7sHU_"
      },
      "execution_count": null,
      "outputs": []
    },
    {
      "cell_type": "code",
      "source": [],
      "metadata": {
        "id": "4qPtRFsltlAL"
      },
      "execution_count": null,
      "outputs": []
    },
    {
      "cell_type": "code",
      "source": [
        "## ## TEXT SPLITTER\n",
        "\n",
        "from langchain_text_splitters import RecursiveCharacterTextSplitter\n",
        "\n",
        "text_splitter=RecursiveCharacterTextSplitter(chunk_size=500,chunk_overlap=50)\n",
        "final_documents=text_splitter.split_documents(docs)\n",
        "final_documents"
      ],
      "metadata": {
        "id": "WOhFlNncs2EB"
      },
      "execution_count": null,
      "outputs": []
    },
    {
      "cell_type": "code",
      "source": [],
      "metadata": {
        "id": "YJssjbDltnXk"
      },
      "execution_count": null,
      "outputs": []
    },
    {
      "cell_type": "code",
      "source": [
        "## BEFORE THIS WE HAVE TO INSTALL THE CHROMADB FRAMEWORK !"
      ],
      "metadata": {
        "id": "Yc-sTc4Kt3dh"
      },
      "execution_count": null,
      "outputs": []
    },
    {
      "cell_type": "code",
      "source": [
        "## ## HERE WE ARE TAKING ALL THE SPLIITER DOC AND CONVERT THAT INTO THE VECTORDB !\n",
        "\n",
        "## ## Vector Embedding And Vector StoreDB\n",
        "\n",
        "\n",
        "from langchain_community.vectorstores import Chroma\n",
        "\n",
        "db=Chroma.from_documents(final_documents,embeddings_1024)\n",
        "db\n"
      ],
      "metadata": {
        "id": "7BGU9nRrs6kz"
      },
      "execution_count": null,
      "outputs": []
    },
    {
      "cell_type": "code",
      "source": [],
      "metadata": {
        "id": "OJljvQqDuKjY"
      },
      "execution_count": null,
      "outputs": []
    },
    {
      "cell_type": "code",
      "source": [
        "## HOW WE QUERY THIS VECTOR AND  OPEN THE SPEECH.TXT AND COPY SOME TEXT AND THEN\n",
        "\n",
        "## COPY SOME TEXT FROM THAT SPEECH.TXT THEN DO THE SIMILARITY SEARCH !"
      ],
      "metadata": {
        "id": "b2xZZ94MtN29"
      },
      "execution_count": null,
      "outputs": []
    },
    {
      "cell_type": "code",
      "source": [
        "### Retrieve the results from query vectorstore db\n",
        "\n",
        "query=\"It will be all the easier for us to conduct ourselves as belligerents\"\n",
        "retrieved_results=db.similarity_search(query)\n",
        "print(retrieved_results)"
      ],
      "metadata": {
        "id": "X7LeMFnZtNzr"
      },
      "execution_count": null,
      "outputs": []
    },
    {
      "cell_type": "markdown",
      "source": [],
      "metadata": {
        "id": "YEHB_vv8wUe8"
      }
    },
    {
      "cell_type": "markdown",
      "source": [
        "IN NEXT WILL See"
      ],
      "metadata": {
        "id": "0HwQiqsVwzYe"
      }
    },
    {
      "cell_type": "markdown",
      "source": [
        "## OLLAMA EMBEDDING"
      ],
      "metadata": {
        "id": "Cd_0nInfxAGz"
      }
    },
    {
      "cell_type": "code",
      "source": [],
      "metadata": {
        "id": "pL_3BGeJtNxb"
      },
      "execution_count": null,
      "outputs": []
    },
    {
      "cell_type": "markdown",
      "source": [
        "##"
      ],
      "metadata": {
        "id": "lvh5unYNr3fY"
      }
    }
  ]
}