{
  "nbformat": 4,
  "nbformat_minor": 0,
  "metadata": {
    "colab": {
      "provenance": [],
      "authorship_tag": "ABX9TyOGmLOs25yhnnZre79RdL8/",
      "include_colab_link": true
    },
    "kernelspec": {
      "name": "python3",
      "display_name": "Python 3"
    },
    "language_info": {
      "name": "python"
    }
  },
  "cells": [
    {
      "cell_type": "markdown",
      "metadata": {
        "id": "view-in-github",
        "colab_type": "text"
      },
      "source": [
        "<a href=\"https://colab.research.google.com/github/SiddhantUke/BEHIND-GENAI-CORE-CONCEPT-/blob/main/OLLAMA.ipynb\" target=\"_parent\"><img src=\"https://colab.research.google.com/assets/colab-badge.svg\" alt=\"Open In Colab\"/></a>"
      ]
    },
    {
      "cell_type": "markdown",
      "source": [
        "\n",
        "\n",
        "---\n",
        "\n"
      ],
      "metadata": {
        "id": "0oLKFqdfeyfM"
      }
    },
    {
      "cell_type": "markdown",
      "source": [
        "# OLLAMA\n",
        "\n",
        "download the .exe file from the official website ------> after download it\n",
        ".\n",
        "\n",
        ".\n",
        "\n",
        "do open -----> next --------> next\n",
        "\n",
        "we can used this in our local workstation\n",
        "!\n",
        "\n"
      ],
      "metadata": {
        "id": "hIcFRE-LdlNJ"
      }
    },
    {
      "cell_type": "markdown",
      "source": [
        "\n",
        "\n",
        "---\n",
        "\n"
      ],
      "metadata": {
        "id": "sdj3ir43eJ3d"
      }
    },
    {
      "cell_type": "markdown",
      "source": [
        "go to github of ollama and check the documentation and go through  it properly !"
      ],
      "metadata": {
        "id": "Gqw8cpOQeLN1"
      }
    },
    {
      "cell_type": "markdown",
      "source": [
        "\n",
        "\n",
        "---\n",
        "\n"
      ],
      "metadata": {
        "id": "nmzDFwiKebyy"
      }
    },
    {
      "cell_type": "markdown",
      "source": [
        "right corner and upward arrow left side of the cloud icon click on  that and now you will see that  ollama appears there !\n",
        ".\n",
        "\n",
        "\n",
        ".\n",
        "\n",
        "\n",
        ".\n",
        "\n",
        "\n",
        "."
      ],
      "metadata": {
        "id": "226putSEedRa"
      }
    },
    {
      "cell_type": "markdown",
      "source": [
        "\n",
        "\n",
        "---\n",
        "\n"
      ],
      "metadata": {
        "id": "wG5XM-hmevrp"
      }
    },
    {
      "cell_type": "markdown",
      "source": [
        "open the terminal and install the ***ollama run llama3.2:1b***"
      ],
      "metadata": {
        "id": "CSKNBJ0jewtG"
      }
    },
    {
      "cell_type": "markdown",
      "source": [
        "\n",
        "\n",
        "---\n",
        "\n"
      ],
      "metadata": {
        "id": "WuCSX2lvfdyk"
      }
    },
    {
      "cell_type": "markdown",
      "source": [
        "so after that what ollama do is that put all the llama model in my local machine"
      ],
      "metadata": {
        "id": "VZkhK5SMfevv"
      }
    },
    {
      "cell_type": "markdown",
      "source": [
        "\n",
        "\n",
        "---\n",
        "\n"
      ],
      "metadata": {
        "id": "YlC_sxF-fwSc"
      }
    },
    {
      "cell_type": "markdown",
      "source": [
        "### START OUR CODING"
      ],
      "metadata": {
        "id": "IkMWqiHUfxhO"
      }
    },
    {
      "cell_type": "markdown",
      "source": [
        "\n",
        "\n",
        "---\n",
        "\n"
      ],
      "metadata": {
        "id": "pO50yr5wf0Mz"
      }
    },
    {
      "cell_type": "markdown",
      "source": [
        "#### Ollama\n",
        "Ollama supports embedding models, making it possible to build retrieval augmented generation (RAG) applications that combine text prompts with existing documents or other data."
      ],
      "metadata": {
        "id": "chP5qn0CgK5X"
      }
    },
    {
      "cell_type": "code",
      "execution_count": null,
      "metadata": {
        "id": "1uCOl4pXdc9O"
      },
      "outputs": [],
      "source": [
        "from langchain_community.embeddings import OllamaEmbeddings"
      ]
    },
    {
      "cell_type": "code",
      "source": [
        "embeddings=(\n",
        "    OllamaEmbeddings(model=\"gemma:2b\")  ##by default it ues llama2\n",
        ")\n"
      ],
      "metadata": {
        "id": "Aj8EJKumgQEb"
      },
      "execution_count": null,
      "outputs": []
    },
    {
      "cell_type": "code",
      "source": [
        "embeddings"
      ],
      "metadata": {
        "id": "5qAJgYUXgQBR"
      },
      "execution_count": null,
      "outputs": []
    },
    {
      "cell_type": "code",
      "source": [
        "r1=embeddings.embed_documents(\n",
        "    [\n",
        "       \"Alpha is the first letter of Greek alphabet\",\n",
        "       \"Beta is the second letter of Greek alphabet\",\n",
        "    ]\n",
        ")"
      ],
      "metadata": {
        "id": "0VlYfn5LgP_C"
      },
      "execution_count": null,
      "outputs": []
    },
    {
      "cell_type": "code",
      "source": [
        "len(r1[0])"
      ],
      "metadata": {
        "id": "G7N9aFgqgP8t"
      },
      "execution_count": null,
      "outputs": []
    },
    {
      "cell_type": "code",
      "source": [
        "r1[1]"
      ],
      "metadata": {
        "id": "bJm4CQRwgP5e"
      },
      "execution_count": null,
      "outputs": []
    },
    {
      "cell_type": "code",
      "source": [
        "embeddings.embed_query(\"What is the second letter of Greek alphabet \")"
      ],
      "metadata": {
        "id": "s4dHNS38gP3i"
      },
      "execution_count": null,
      "outputs": []
    },
    {
      "cell_type": "code",
      "source": [
        "### Other Embedding Models\n",
        "### https://ollama.com/blog/embedding-models\n",
        "embeddings = OllamaEmbeddings(model=\"mxbai-embed-large\")\n",
        "text = \"This is a test document.\"\n",
        "query_result = embeddings.embed_query(text)\n",
        "query_result\n"
      ],
      "metadata": {
        "id": "lZAUTsc_gP1E"
      },
      "execution_count": null,
      "outputs": []
    },
    {
      "cell_type": "code",
      "source": [
        "len(query_result)"
      ],
      "metadata": {
        "id": "7lrBOXwygPyF"
      },
      "execution_count": null,
      "outputs": []
    },
    {
      "cell_type": "code",
      "source": [],
      "metadata": {
        "id": "-PN-3oixgPvN"
      },
      "execution_count": null,
      "outputs": []
    }
  ]
}